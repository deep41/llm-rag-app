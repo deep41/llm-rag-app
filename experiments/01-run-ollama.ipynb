{
 "cells": [
  {
   "cell_type": "code",
   "execution_count": 1,
   "metadata": {},
   "outputs": [],
   "source": [
    "import ollama"
   ]
  },
  {
   "cell_type": "code",
   "execution_count": 2,
   "metadata": {},
   "outputs": [
    {
     "name": "stdout",
     "output_type": "stream",
     "text": [
      "What a great question!\n",
      "\n",
      "The short answer is that the sky appears blue because of a phenomenon called Rayleigh scattering. This is when shorter (blue) wavelengths of light are scattered more than longer (red) wavelengths by tiny molecules of gases in the atmosphere, like nitrogen and oxygen.\n",
      "\n",
      "Here's a bit more detail:\n",
      "\n",
      "1. **Sunlight**: When sunlight enters Earth's atmosphere, it contains all the colors of the visible spectrum (red to violet).\n",
      "2. **Atmospheric gases**: The atmosphere is made up of tiny molecules of gases, such as nitrogen (N2) and oxygen (O2). These molecules are much smaller than the wavelength of light.\n",
      "3. **Rayleigh scattering**: When sunlight hits these atmospheric molecules, the shorter wavelengths of blue light are scattered in all directions by the molecules. This is because the smaller molecules are more effective at scattering shorter wavelengths.\n",
      "4. **Longer wavelengths**: The longer wavelengths of red and orange light, on the other hand, travel in straight lines with much less scattering. This is because they interact less with the atmospheric molecules.\n",
      "5. **Blue dominance**: As a result of this scattering, our eyes perceive the blue light as dominant, making the sky appear blue during the daytime.\n",
      "\n",
      "In addition to Rayleigh scattering, other factors can affect the apparent color of the sky, such as:\n",
      "\n",
      "* Dust and pollution: These can scatter light in different ways, changing the color of the sky.\n",
      "* Water vapor: High humidity can cause a more pronounced blue color due to additional scattering effects.\n",
      "* Angle of the sun: The angle at which sunlight hits the atmosphere also influences the apparent color of the sky.\n",
      "\n",
      "So, there you have it! The blue color of the sky is primarily due to the scattering of sunlight by atmospheric gases through Rayleigh's principle."
     ]
    }
   ],
   "source": [
    "stream = ollama.chat(\n",
    "    model='llama3',\n",
    "    messages=[{'role': 'user', 'content': 'Why is the sky blue?'}],\n",
    "    stream=True,\n",
    ")\n",
    "\n",
    "for chunk in stream:\n",
    "  print(chunk['message']['content'], end='', flush=True)"
   ]
  }
 ],
 "metadata": {
  "kernelspec": {
   "display_name": "Python 3",
   "language": "python",
   "name": "python3"
  }
 },
 "nbformat": 4,
 "nbformat_minor": 2
}

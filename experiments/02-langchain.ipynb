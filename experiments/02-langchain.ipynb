{
 "cells": [
  {
   "cell_type": "code",
   "execution_count": 2,
   "metadata": {},
   "outputs": [
    {
     "name": "stdout",
     "output_type": "stream",
     "text": [
      "Requirement already satisfied: langchain-core in /usr/local/lib/python3.8/dist-packages (0.2.2)\n",
      "Requirement already satisfied: langchain-community in /home/drajend2/.local/lib/python3.8/site-packages (0.2.1)\n",
      "Requirement already satisfied: pydantic<3,>=1 in /home/drajend2/.local/lib/python3.8/site-packages (from langchain-core) (1.10.8)\n",
      "Requirement already satisfied: langsmith<0.2.0,>=0.1.0 in /usr/local/lib/python3.8/dist-packages (from langchain-core) (0.1.65)\n",
      "Requirement already satisfied: packaging<24.0,>=23.2 in /usr/local/lib/python3.8/dist-packages (from langchain-core) (23.2)\n",
      "Requirement already satisfied: jsonpatch<2.0,>=1.33 in /usr/local/lib/python3.8/dist-packages (from langchain-core) (1.33)\n",
      "Requirement already satisfied: PyYAML>=5.3 in /usr/lib/python3/dist-packages (from langchain-core) (5.3.1)\n",
      "Requirement already satisfied: tenacity<9.0.0,>=8.1.0 in /usr/local/lib/python3.8/dist-packages (from langchain-core) (8.3.0)\n",
      "Requirement already satisfied: requests<3,>=2 in /usr/lib/python3/dist-packages (from langchain-community) (2.22.0)\n",
      "Requirement already satisfied: SQLAlchemy<3,>=1.4 in /usr/local/lib/python3.8/dist-packages (from langchain-community) (2.0.30)\n",
      "Requirement already satisfied: langchain<0.3.0,>=0.2.0 in /usr/local/lib/python3.8/dist-packages (from langchain-community) (0.2.1)\n",
      "Requirement already satisfied: numpy<2,>=1 in /usr/local/lib/python3.8/dist-packages (from langchain-community) (1.24.4)\n",
      "Requirement already satisfied: aiohttp<4.0.0,>=3.8.3 in /usr/local/lib/python3.8/dist-packages (from langchain-community) (3.9.5)\n",
      "Requirement already satisfied: dataclasses-json<0.7,>=0.5.7 in /home/drajend2/.local/lib/python3.8/site-packages (from langchain-community) (0.6.6)\n",
      "Requirement already satisfied: typing-extensions>=4.2.0 in /usr/local/lib/python3.8/dist-packages (from pydantic<3,>=1->langchain-core) (4.12.0)\n",
      "Requirement already satisfied: orjson<4.0.0,>=3.9.14 in /usr/local/lib/python3.8/dist-packages (from langsmith<0.2.0,>=0.1.0->langchain-core) (3.10.3)\n",
      "Requirement already satisfied: jsonpointer>=1.9 in /usr/local/lib/python3.8/dist-packages (from jsonpatch<2.0,>=1.33->langchain-core) (2.4)\n",
      "Requirement already satisfied: greenlet!=0.4.17; platform_machine == \"aarch64\" or (platform_machine == \"ppc64le\" or (platform_machine == \"x86_64\" or (platform_machine == \"amd64\" or (platform_machine == \"AMD64\" or (platform_machine == \"win32\" or platform_machine == \"WIN32\"))))) in /usr/local/lib/python3.8/dist-packages (from SQLAlchemy<3,>=1.4->langchain-community) (3.0.3)\n",
      "Requirement already satisfied: async-timeout<5.0.0,>=4.0.0; python_version < \"3.11\" in /usr/local/lib/python3.8/dist-packages (from langchain<0.3.0,>=0.2.0->langchain-community) (4.0.3)\n",
      "Requirement already satisfied: langchain-text-splitters<0.3.0,>=0.2.0 in /usr/local/lib/python3.8/dist-packages (from langchain<0.3.0,>=0.2.0->langchain-community) (0.2.0)\n",
      "Requirement already satisfied: frozenlist>=1.1.1 in /usr/local/lib/python3.8/dist-packages (from aiohttp<4.0.0,>=3.8.3->langchain-community) (1.4.1)\n",
      "Requirement already satisfied: yarl<2.0,>=1.0 in /usr/local/lib/python3.8/dist-packages (from aiohttp<4.0.0,>=3.8.3->langchain-community) (1.9.4)\n",
      "Requirement already satisfied: aiosignal>=1.1.2 in /usr/local/lib/python3.8/dist-packages (from aiohttp<4.0.0,>=3.8.3->langchain-community) (1.3.1)\n",
      "Requirement already satisfied: multidict<7.0,>=4.5 in /usr/local/lib/python3.8/dist-packages (from aiohttp<4.0.0,>=3.8.3->langchain-community) (6.0.5)\n",
      "Requirement already satisfied: attrs>=17.3.0 in /usr/lib/python3/dist-packages (from aiohttp<4.0.0,>=3.8.3->langchain-community) (19.3.0)\n",
      "Requirement already satisfied: marshmallow<4.0.0,>=3.18.0 in /home/drajend2/.local/lib/python3.8/site-packages (from dataclasses-json<0.7,>=0.5.7->langchain-community) (3.21.2)\n",
      "Requirement already satisfied: typing-inspect<1,>=0.4.0 in /home/drajend2/.local/lib/python3.8/site-packages (from dataclasses-json<0.7,>=0.5.7->langchain-community) (0.9.0)\n",
      "Requirement already satisfied: idna>=2.0 in /usr/lib/python3/dist-packages (from yarl<2.0,>=1.0->aiohttp<4.0.0,>=3.8.3->langchain-community) (2.8)\n",
      "Requirement already satisfied: mypy-extensions>=0.3.0 in /home/drajend2/.local/lib/python3.8/site-packages (from typing-inspect<1,>=0.4.0->dataclasses-json<0.7,>=0.5.7->langchain-community) (1.0.0)\n",
      "Note: you may need to restart the kernel to use updated packages.\n"
     ]
    }
   ],
   "source": [
    "%pip install langchain-core langchain-community"
   ]
  },
  {
   "cell_type": "code",
   "execution_count": 3,
   "metadata": {},
   "outputs": [
    {
     "name": "stdout",
     "output_type": "stream",
     "text": [
      "Requirement already satisfied: pypdf in /home/drajend2/.local/lib/python3.8/site-packages (4.2.0)\n",
      "Requirement already satisfied: typing_extensions>=4.0; python_version < \"3.11\" in /usr/local/lib/python3.8/dist-packages (from pypdf) (4.12.0)\n",
      "Note: you may need to restart the kernel to use updated packages.\n"
     ]
    }
   ],
   "source": [
    "%pip install pypdf"
   ]
  },
  {
   "cell_type": "code",
   "execution_count": 1,
   "metadata": {},
   "outputs": [],
   "source": [
    "MODEL = 'llama2'\n"
   ]
  },
  {
   "cell_type": "code",
   "execution_count": 4,
   "metadata": {},
   "outputs": [
    {
     "name": "stderr",
     "output_type": "stream",
     "text": [
      "/usr/lib/python3/dist-packages/requests/__init__.py:89: RequestsDependencyWarning: urllib3 (2.2.1) or chardet (3.0.4) doesn't match a supported version!\n",
      "  warnings.warn(\"urllib3 ({}) or chardet ({}) doesn't match a supported \"\n"
     ]
    }
   ],
   "source": [
    "\n",
    "from langchain_community.llms import Ollama\n",
    "from langchain_community.embeddings import OllamaEmbeddings\n",
    "\n",
    "model = Ollama(model=MODEL)\n",
    "embeddings=OllamaEmbeddings()\n"
   ]
  },
  {
   "cell_type": "code",
   "execution_count": 31,
   "metadata": {},
   "outputs": [
    {
     "name": "stdout",
     "output_type": "stream",
     "text": [
      "01-run-ollama.ipynb  02-langchain.ipynb\n"
     ]
    }
   ],
   "source": [
    "!ls"
   ]
  },
  {
   "cell_type": "code",
   "execution_count": 27,
   "metadata": {},
   "outputs": [
    {
     "data": {
      "text/plain": [
       "[Document(page_content='Building Machine Learning Systems That Don\\'t Suck\\nA live, interactive program that\\'ll help you build production-readymachine learning\\nsystems from the ground up.\\nNext cohort:\\xa0July1 - 18, 2024\\nCheck the schedulefor more details about upcoming cohorts.\\nI want to join!Sign in\\nLearn how to design, build, deploy, and scale machine learning\\nsystems to solve real-world problems.\\nI\\'ll lose my mind if I see another book or course teaching people the same basic ideas\\nfor the hundredth time. Most people are stuck in beginner mode, and finding help to\\nsolve real-world problems is hard.\\nI want to change that.\\nI started writing software 30 years ago. I\\'ve written pipelines and trained models for\\nsome of the largest companies in the world. I want to show you how to do the same.\\nThis is the class I wish I had taken when I started.\"This is the best machine learning course I\\'ve done.\\nWorth every cent.\"\\n— Jose Reyes, AI/ML at Cevo Australia5/30/24, 12:52 PM Building Machine Learning Systems That Don\\'t Suck\\nhttps://www.ml.school/#syllabus 1/12', metadata={'source': '../pdfs/mlschool.pdf', 'page': 0}),\n",
       " Document(page_content=\"This program will help you unlearn what you think machine learning is. It's a practical,\\nhands-on class where you'll learn from years of experience and real-world examples.\\nWhen you join, you get lifetime access to the following:\\n18 hours of live, interactive sessions. We'll use this time to discuss the first\\nprinciples behind building machine learning systems.\\n10 hours of step-by-step coding instructions. These practical sessions will show\\nyou how to build an end-to-end system from scratch.\\nA final project where you'll build a complete solution and receive direct\\nfeedback on your work.\\n100 coding assignments and practice questions.\\nThe entire source code of a working production system. It's yours. You can\\nchange and use it as you see fit.\\nA private community where you'll collaborate with thousands of people from\\ndifferent backgrounds.\\nDirect access to your instructor.\\nLifetime access to every past and future cohort.\\nProgram certificate upon completion.\\nAnd the best part is that you only pay once to join. There are no monthly fees. No\\nannual fees. No hidden costs. You pay once to join and benefit forever until the end of\\ntime.\\nThe program won't be easy. It'll take time and effort. But if you want to use machine\\nlearning to solve real-world problems,this is the class you don't want to miss.\\nWho Is This Program For?\\nThis is a practical, hands-on program for technical professionals who\\nare ready to put in the work.5/30/24, 12:52 PM Building Machine Learning Systems That Don't Suck\\nhttps://www.ml.school/#syllabus 2/12\", metadata={'source': '../pdfs/mlschool.pdf', 'page': 1}),\n",
       " Document(page_content='This program is for software engineers,data scientists,data analysts,machine\\nlearning engineers,technical managers, and anyone anyone who wants to use\\nmachine learning to solve real-world problems.\\nHere are the criteria to succeed in the program:\\nYou have experience writing code. We\\'ll use Python throughout the class, but\\nyou won\\'t have any problems if you know any other language.\\nYou are familiar with basic machine learning terminology. This is not an\\nintroductory class. We\\'ll move quickly over the basics to focus on the\\nfundamental ideas that make systems work.\\nYou are ready to put in the work to succeed.\\n\"I have learned a ton from Santiago in his class and it was actually what helped inspire me and\\nget into the MLOps work that I\\'m doing now. Truly one of the most helpful online courses for\\ndoing real, full-scale machine learning.\"\\nBrian H. Hough\\nSoftware Engineer\\nWhat Will You Learn?\\nYou\\'ll come out with practical skills and insights into what it takes to\\nbuild systems that work in the real world.\\nHere is a summary of what makes this program unique:5/30/24, 12:52 PM Building Machine Learning Systems That Don\\'t Suck\\nhttps://www.ml.school/#syllabus 3/12', metadata={'source': '../pdfs/mlschool.pdf', 'page': 2}),\n",
       " Document(page_content=\"You'll design and write the code to build an end-to-end machine learning\\nsystem starting from scratch.\\nYou'll learn best practices to tackle the most significant challenges machine\\nlearning engineers face to build, evaluate, run, monitor, and maintain machine\\nlearning systems in real-world scenarios.\\nYou'll learn how to use techniques like active learning, distributed training,\\nadversarial validation, human-in-the-loop deployments, model compression,\\ntest-time augmentation, testing in production, among many others.\\nYou'll learn how to create training, deploying, monitoring, and inference\\npipelines using Amazon SageMaker and open-source tools.\\nForget about theoretical concepts. This program will show you some of the things I've\\nlearned from real-life examples I've built during more than 30 years in the industry.\\nCheck the program syllabus\\xa0→\\nReal-life examples and case studies\\nLearn from practical experience building machine\\nlearning systems that work in the real world.\\nLive, interactive sessions\\nAsk questions and interact with the instructor and\\nother students in real time.\\n5/30/24, 12:52 PM Building Machine Learning Systems That Don't Suck\\nhttps://www.ml.school/#syllabus 4/12\", metadata={'source': '../pdfs/mlschool.pdf', 'page': 3}),\n",
       " Document(page_content=\"Code walkthroughs\\nStep by step coding instructions to help you build a\\nproduction system from scratch.\\nUpcoming Schedule\\nEvery iteration of the program gives you 18 hours of hands-on, live\\ntraining spread over 3 weeks.\\nHere are the upcoming cohorts:\\nCohort 14:July 1-July 18, 2024.10:00 AM GMT+2\\nCohort 15:August 5-August 22, 2024.10:00 AM EDT\\nLive sessions will take place every Monday and Thursday at the same time. On\\nWednesdays, we'll host office hours when you can bring your questions projects or\\nanything else you want to discuss.\\nMonday: Live session. 2 hours.\\nTuesday: Individual work.\\nWednesday: Optional office hours.\\nThursday: Live session. 2 hours.\\nFriday: Individual work.\\n5/30/24, 12:52 PM Building Machine Learning Systems That Don't Suck\\nhttps://www.ml.school/#syllabus 5/12\", metadata={'source': '../pdfs/mlschool.pdf', 'page': 4}),\n",
       " Document(page_content='Do not wait for a specific cohort to join the program. You have lifetime access to\\nevery past and future cohort, and the sooner you join, the more time you have to\\nprepare.\\nEvery session is recorded. You can attend live or watch the recorded version later.\\n\"This is one of the best classes I\\'ve ever purchased over the internet. Santiago is a terrific\\nteacher. The ability he has to share knowledge is fantastic. I recommend this course. Worth 10x\\nwhat he\\'s charging.\"\\nSal DiStefano\\nReady To Join The Program?\\nYou\\'ll get lifetime access. No monthly fees. No annual fees. No hidden\\ncosts.\\n$450\\nPay once. Access forever.\\nPay once to join the program and get lifetime access. You can participate in as many\\niterations as you\\'d like. No restrictions.5/30/24, 12:52 PM Building Machine Learning Systems That Don\\'t Suck\\nhttps://www.ml.school/#syllabus 6/12', metadata={'source': '../pdfs/mlschool.pdf', 'page': 5}),\n",
       " Document(page_content=\"Program Syllabus\\nThis program will teach you the practical skills and insights that will\\nhelp you build machine learning systems.\\nHere are the contents of the six live sessions of the program:\\nSession 1 - How To Start (Almost) Any Project\\nWhat makes production machine learning different from what you've learned.\\nThe strategy to solve the right problem using the right solution.\\nCritical questions to ask before starting any project.\\nProblem framing, inversion, and the haystack principle for building successful\\napplications.\\nThe first rule of machine learning engineering and how to start building.\\nData collection strategies. A technique to determine how much data you need.\\nThe problem of selection bias and how to deal with it.\\nLabeling data. Human annotations, natural labels and weak supervision.Join now\\nEnjoy 18 hours of live, interactive sessions\\nWatch 10 hours of step-by-step coding instructions\\nPractice with 100 coding assignments\\nAccess the complete source code of a production system\\nLearn how to start freelancing on Upwork\\nGet feedback and support from the community\\nGet direct feedback from your instructor5/30/24, 12:52 PM Building Machine Learning Systems That Don't Suck\\nhttps://www.ml.school/#syllabus 7/12\", metadata={'source': '../pdfs/mlschool.pdf', 'page': 6}),\n",
       " Document(page_content=\"Active learning using the uncertainty and diversity sampling strategies.\\nSession 2 - How to Build a Model\\nThe role of data cleaning and feature engineering to build better models.\\nTurning data into numbers using vectorization techniques.\\nProducing homogeneous features using normalization and standardization.\\nHandling and interpreting missing values using imputation techniques.\\nThe approach to choosing the best model to solve any problem.\\nRandom baselines and the zero-rule algorithm.\\nHow to use overfitting to build models that don't suck.\\nHyperparameter tuning and experiment tracking.\\nMeasuring the quality of your holdout set.\\nAn introduction to distributed training using data parallelism and model\\nparallelism.\\nSession 3 - Offline Evaluation\\nThe role of a baseline to contextualize the evaluation process.\\nFraming evaluation metrics in the context of business performance.\\nEvaluating models using holdout sets and cross-validation.\\nIntroduction to data leakages and leaky validation strategies.\\nInvariance tests and model fairness.\\nThe problems with metric summarization.\\nTesting models on specific slices of data.\\nError analysis and measuring the impact of potential improvements.\\nIntroduction to backtesting and time-based evaluation strategies.\\nDealing with disproportionally important examples and rare cases.\\nSession 4 - Serving Predictions\\nIntroduction to model versioning and the model registry.5/30/24, 12:52 PM Building Machine Learning Systems That Don't Suck\\nhttps://www.ml.school/#syllabus 8/12\", metadata={'source': '../pdfs/mlschool.pdf', 'page': 7}),\n",
       " Document(page_content=\"The trade-offs when serving predictions. An introduction to latency and\\nthroughput.\\nDynamic serving and static serving predictions.\\nTwo-phase predictions and deploying models on the edge.\\nEnforced modularization and inference pipelines.\\nEvaluating individual pipeline models.\\nIntroduction to human-in-the-loop workflows.\\nCost-sensitive deployment architectures.\\nUsing test-time augmentations to improve predictions.\\nModel compression using pruning, quantization, and knowledge distillation.\\nSession 5 - Drift and Monitoring\\nDealing with catastrophic predictions and the problem with edge cases.\\nThe problem with feedback loops and how to fix them.\\nData distribution shifts. Understanding concept drift and data drift.\\nUsing adversarial validation to detect distribution shifts.\\nAn introduction to monitoring model behavior in production systems.\\nMonitoring model inputs, operational metrics, predictions, and user feedback.\\nHow to keep your models working in the face of distribution shifts.\\nSession 6 - Continual Learning\\nIntroduction to continual learning.\\nTechniques to determine how frequently to retrain your models.\\nTechniques to determine what data to use to retrain a model.\\nCommon triggers to initiate a retraining process.\\nUnderstanding stateless training and stateful training.\\nCatastrophic forgetting and how to prevent it.\\nThe importance of testing in production.\\nTesting models using A/B testing, shadow deployments, canary releases, and\\ninterleaving experiments.5/30/24, 12:52 PM Building Machine Learning Systems That Don't Suck\\nhttps://www.ml.school/#syllabus 9/12\", metadata={'source': '../pdfs/mlschool.pdf', 'page': 8}),\n",
       " Document(page_content='\"This is an awesome course! This is my second round and I continue learning. I recommend it\\nwith complete confidence.\"\\nJuan Olano\\nMachine Learning Engineer\\nFrequently Asked Questions\\nIf you can\\'t find the answer to your question, please reach out on\\nsocial media and I\\'ll be happy to help.\\nHow long will it take to complete the program?\\nIf you are attending the live sessions, you should set aside a minimum of 4 hours\\nevery week during the three weeks of the program. This commitment will be enough\\nfor engineer leaders or anyone not interested in the coding portion of the program.\\nThose interested in implementing the concepts discussed in class should set aside 2\\nto 4 hours weekly to complete the code walkthroughs and work on the assignments.\\nAre live sessions recorded?\\nYes, we record every live session. You can decide when to attend classes live or catch\\nup asynchronously later using the recording.\\nI\\'m a complete beginner. Is this program helpful for me?5/30/24, 12:52 PM Building Machine Learning Systems That Don\\'t Suck\\nhttps://www.ml.school/#syllabus 10/12', metadata={'source': '../pdfs/mlschool.pdf', 'page': 9}),\n",
       " Document(page_content='This program is not an introduction to machine learning.\\nWhile we\\'ll discuss many fundamental ideas behind machine learning, beginners will\\nfind the sessions go much faster than what\\'s optimal for them.\\nWhat does \"lifetime access\" mean?\\nYou only pay once to join the program and get immediate access to every past,\\npresent, and future cohort.\\nEvery new iteration of the program is better than the ones before. Many students take\\nclasses once and then join a later cohort to benefit from the updates.\\nThe lifetime access removes any pressure from having to complete the program when\\nlife gets in the way.\\nHey! I\\'m Santiago.\\nI\\'m the instructor of the program.\\nI\\'m a machine learning engineer with over two decades of experience\\nbuilding and scaling enterprise software and machine learning systems.\\nI love neural networks. I love to make them work at scale.\\n5/30/24, 12:52 PM Building Machine Learning Systems That Don\\'t Suck\\nhttps://www.ml.school/#syllabus 11/12', metadata={'source': '../pdfs/mlschool.pdf', 'page': 10}),\n",
       " Document(page_content=\"From 2009 to 2023, I built products for Disney, Boston Dynamics, IBM, Dell,\\nG4S, Anheuser-Busch, and NextEra Energy, among other clients. I learned\\nabout trade-offs and how to create products that work.\\nI started this program in March 2023. Since then, thousands of students\\nhave graduated, and I can't wait to meet you in class.\\nCopyright © 2024 Tideily LLC\\nAll rights reserved.5/30/24, 12:52 PM Building Machine Learning Systems That Don't Suck\\nhttps://www.ml.school/#syllabus 12/12\", metadata={'source': '../pdfs/mlschool.pdf', 'page': 11})]"
      ]
     },
     "execution_count": 27,
     "metadata": {},
     "output_type": "execute_result"
    }
   ],
   "source": [
    "from langchain_community.document_loaders import PyPDFLoader\n",
    "loader = PyPDFLoader(\"../pdfs/mlschool.pdf\")\n",
    "pages = loader.load_and_split()\n",
    "pages"
   ]
  },
  {
   "cell_type": "code",
   "execution_count": 6,
   "metadata": {},
   "outputs": [],
   "source": [
    "from langchain.prompts import PromptTemplate\n",
    "\n",
    "template = \"\"\"\n",
    "Answer the question based on the context below. If you can't answer the question, reply \"I don't know\".\n",
    "\n",
    "Context: {context}\n",
    "\n",
    "Question: {question}\n",
    "\"\"\"\n",
    "\n",
    "prompt = PromptTemplate.from_template(template)\n",
    "# print(prompt.format(context=\"Here is some context\", question=\"This is the question\"))\n",
    "\n"
   ]
  },
  {
   "cell_type": "code",
   "execution_count": 7,
   "metadata": {},
   "outputs": [],
   "source": [
    "from langchain_core.output_parsers import StrOutputParser\n",
    "\n",
    "parser = StrOutputParser()\n",
    "\n"
   ]
  },
  {
   "cell_type": "code",
   "execution_count": 35,
   "metadata": {},
   "outputs": [
    {
     "data": {
      "text/plain": [
       "{'title': 'PromptInput',\n",
       " 'type': 'object',\n",
       " 'properties': {'context': {'title': 'Context', 'type': 'string'},\n",
       "  'question': {'title': 'Question', 'type': 'string'}}}"
      ]
     },
     "execution_count": 35,
     "metadata": {},
     "output_type": "execute_result"
    }
   ],
   "source": []
  },
  {
   "cell_type": "code",
   "execution_count": 28,
   "metadata": {},
   "outputs": [],
   "source": [
    "from langchain_community.vectorstores import DocArrayInMemorySearch\n",
    "\n",
    "vectorstore = DocArrayInMemorySearch.from_documents(\n",
    "    pages,\n",
    "    embedding=embeddings\n",
    ")"
   ]
  },
  {
   "cell_type": "code",
   "execution_count": 34,
   "metadata": {},
   "outputs": [
    {
     "data": {
      "text/plain": [
       "[Document(page_content=\"Active learning using the uncertainty and diversity sampling strategies.\\nSession 2 - How to Build a Model\\nThe role of data cleaning and feature engineering to build better models.\\nTurning data into numbers using vectorization techniques.\\nProducing homogeneous features using normalization and standardization.\\nHandling and interpreting missing values using imputation techniques.\\nThe approach to choosing the best model to solve any problem.\\nRandom baselines and the zero-rule algorithm.\\nHow to use overfitting to build models that don't suck.\\nHyperparameter tuning and experiment tracking.\\nMeasuring the quality of your holdout set.\\nAn introduction to distributed training using data parallelism and model\\nparallelism.\\nSession 3 - Offline Evaluation\\nThe role of a baseline to contextualize the evaluation process.\\nFraming evaluation metrics in the context of business performance.\\nEvaluating models using holdout sets and cross-validation.\\nIntroduction to data leakages and leaky validation strategies.\\nInvariance tests and model fairness.\\nThe problems with metric summarization.\\nTesting models on specific slices of data.\\nError analysis and measuring the impact of potential improvements.\\nIntroduction to backtesting and time-based evaluation strategies.\\nDealing with disproportionally important examples and rare cases.\\nSession 4 - Serving Predictions\\nIntroduction to model versioning and the model registry.5/30/24, 12:52 PM Building Machine Learning Systems That Don't Suck\\nhttps://www.ml.school/#syllabus 8/12\", metadata={'source': '../pdfs/mlschool.pdf', 'page': 7}),\n",
       " Document(page_content='This program is for software engineers,data scientists,data analysts,machine\\nlearning engineers,technical managers, and anyone anyone who wants to use\\nmachine learning to solve real-world problems.\\nHere are the criteria to succeed in the program:\\nYou have experience writing code. We\\'ll use Python throughout the class, but\\nyou won\\'t have any problems if you know any other language.\\nYou are familiar with basic machine learning terminology. This is not an\\nintroductory class. We\\'ll move quickly over the basics to focus on the\\nfundamental ideas that make systems work.\\nYou are ready to put in the work to succeed.\\n\"I have learned a ton from Santiago in his class and it was actually what helped inspire me and\\nget into the MLOps work that I\\'m doing now. Truly one of the most helpful online courses for\\ndoing real, full-scale machine learning.\"\\nBrian H. Hough\\nSoftware Engineer\\nWhat Will You Learn?\\nYou\\'ll come out with practical skills and insights into what it takes to\\nbuild systems that work in the real world.\\nHere is a summary of what makes this program unique:5/30/24, 12:52 PM Building Machine Learning Systems That Don\\'t Suck\\nhttps://www.ml.school/#syllabus 3/12', metadata={'source': '../pdfs/mlschool.pdf', 'page': 2}),\n",
       " Document(page_content=\"This program will help you unlearn what you think machine learning is. It's a practical,\\nhands-on class where you'll learn from years of experience and real-world examples.\\nWhen you join, you get lifetime access to the following:\\n18 hours of live, interactive sessions. We'll use this time to discuss the first\\nprinciples behind building machine learning systems.\\n10 hours of step-by-step coding instructions. These practical sessions will show\\nyou how to build an end-to-end system from scratch.\\nA final project where you'll build a complete solution and receive direct\\nfeedback on your work.\\n100 coding assignments and practice questions.\\nThe entire source code of a working production system. It's yours. You can\\nchange and use it as you see fit.\\nA private community where you'll collaborate with thousands of people from\\ndifferent backgrounds.\\nDirect access to your instructor.\\nLifetime access to every past and future cohort.\\nProgram certificate upon completion.\\nAnd the best part is that you only pay once to join. There are no monthly fees. No\\nannual fees. No hidden costs. You pay once to join and benefit forever until the end of\\ntime.\\nThe program won't be easy. It'll take time and effort. But if you want to use machine\\nlearning to solve real-world problems,this is the class you don't want to miss.\\nWho Is This Program For?\\nThis is a practical, hands-on program for technical professionals who\\nare ready to put in the work.5/30/24, 12:52 PM Building Machine Learning Systems That Don't Suck\\nhttps://www.ml.school/#syllabus 2/12\", metadata={'source': '../pdfs/mlschool.pdf', 'page': 1}),\n",
       " Document(page_content='Building Machine Learning Systems That Don\\'t Suck\\nA live, interactive program that\\'ll help you build production-readymachine learning\\nsystems from the ground up.\\nNext cohort:\\xa0July1 - 18, 2024\\nCheck the schedulefor more details about upcoming cohorts.\\nI want to join!Sign in\\nLearn how to design, build, deploy, and scale machine learning\\nsystems to solve real-world problems.\\nI\\'ll lose my mind if I see another book or course teaching people the same basic ideas\\nfor the hundredth time. Most people are stuck in beginner mode, and finding help to\\nsolve real-world problems is hard.\\nI want to change that.\\nI started writing software 30 years ago. I\\'ve written pipelines and trained models for\\nsome of the largest companies in the world. I want to show you how to do the same.\\nThis is the class I wish I had taken when I started.\"This is the best machine learning course I\\'ve done.\\nWorth every cent.\"\\n— Jose Reyes, AI/ML at Cevo Australia5/30/24, 12:52 PM Building Machine Learning Systems That Don\\'t Suck\\nhttps://www.ml.school/#syllabus 1/12', metadata={'source': '../pdfs/mlschool.pdf', 'page': 0})]"
      ]
     },
     "execution_count": 34,
     "metadata": {},
     "output_type": "execute_result"
    }
   ],
   "source": [
    "retriever = vectorstore.as_retriever()\n",
    "retriever.invoke(\"ML\")"
   ]
  },
  {
   "cell_type": "code",
   "execution_count": 35,
   "metadata": {},
   "outputs": [
    {
     "name": "stdout",
     "output_type": "stream",
     "text": [
      "I don't know your name as I'm just an AI and do not have access to personal information or the ability to know the identity of individuals. My purpose is to assist with tasks and answer questions based on the content provided to me, but I do not have personal knowledge or context beyond what is presented in the text. Is there anything else I can help you with?\n"
     ]
    }
   ],
   "source": [
    "output = chain.invoke({\"context\":\"The name I was given was Deepak\", \"question\":\"What's my name\"})\n",
    "print(output)\n",
    "# for token in output:\n",
    "#     print(token, end=\"\", flush=True)"
   ]
  },
  {
   "cell_type": "code",
   "execution_count": 36,
   "metadata": {},
   "outputs": [
    {
     "data": {
      "text/plain": [
       "{'title': 'RunnableParallel<context,question>Input',\n",
       " 'type': 'object',\n",
       " 'properties': {'question': {'title': 'Question'}}}"
      ]
     },
     "execution_count": 36,
     "metadata": {},
     "output_type": "execute_result"
    }
   ],
   "source": [
    "\n",
    "from operator import itemgetter\n",
    "\n",
    "\n",
    "\n",
    "chain = (\n",
    "    {\n",
    "    \"context\": itemgetter(\"question\") | retriever,\n",
    "    \"question\": itemgetter(\"question\")\n",
    "    } \n",
    "    | prompt \n",
    "    | model \n",
    "    | parser)\n",
    "chain.input_schema.schema()\n"
   ]
  },
  {
   "cell_type": "code",
   "execution_count": 37,
   "metadata": {},
   "outputs": [],
   "source": [
    "# questions = [\n",
    "#     \"What is this document about?\",\n",
    "#     \"What GPUs are being compared?\",\n",
    "# ]\n",
    "questions = [\n",
    "    \"What is the purpose of the course?\",\n",
    "    \"How many hours of live sessions?\",\n",
    "    \"How many coding assignments are there in the program?\",\n",
    "    \"Is there a program certificate upon completion?\",\n",
    "    \"What programming language will be used in the program?\",\n",
    "    \"How much does the program cost?\",\n",
    "]\n"
   ]
  },
  {
   "cell_type": "code",
   "execution_count": 38,
   "metadata": {},
   "outputs": [
    {
     "name": "stdout",
     "output_type": "stream",
     "text": [
      "Question: What is the purpose of the course?\n",
      "Answer: Based on the provided context, the purpose of the course appears to be teaching students practical skills and insights to build machine learning systems that work in real-world scenarios. The course aims to provide students with hands-on experience through live, interactive sessions, step-by-step coding instructions, and access to complete source code of a production system. Additionally, the course offers support from the community and direct feedback from the instructor to help students learn and grow.\n",
      "Question: How many hours of live sessions?\n",
      "Answer: Based on the context provided, there are 18 hours of live sessions in the program.\n",
      "Question: How many coding assignments are there in the program?\n",
      "Answer: Based on the context provided, there are 100 coding assignments in the program.\n",
      "Question: Is there a program certificate upon completion?\n",
      "Answer: Yes, upon completion of the program, you will receive a program certificate.\n",
      "Question: What programming language will be used in the program?\n",
      "Answer: Based on the context provided, the programming language that will be used in the program is not explicitly mentioned. However, based on the content of the documents provided, it seems that Python is the primary language used for teaching machine learning concepts and building projects.\n",
      "\n",
      "In Document 1, there is a mention of using \"best practices to tackle the most significant challenges machine learning engineers face,\" which suggests that the program will cover practical aspects of building machine learning systems. In Document 2, there is a section on \"Creating Training, Deploying, Monitoring, and Inference Pipelines\" using Amazon SageMaker and open-source tools, which further reinforces the use of Python for building production-ready models.\n",
      "\n",
      "Therefore, based on the context provided, it can be inferred that Python will likely be the primary programming language used in the program.\n",
      "Question: How much does the program cost?\n",
      "Answer: Based on the context provided, I can answer the question as follows:\n",
      "The program costs $4,995. This information is found in the metadata of the seventh document provided in the context, which states \"Join now and get direct feedback from your instructor for $4,995.\"\n"
     ]
    }
   ],
   "source": [
    "for question in questions:\n",
    "    print(f\"Question: {question}\")\n",
    "    print(f\"Answer: \", end=\"\")\n",
    "    for token in chain.stream({\"question\" : question}):\n",
    "        print(token, end=\"\", flush=True)\n",
    "        \n",
    "    print()\n",
    "    "
   ]
  },
  {
   "cell_type": "code",
   "execution_count": null,
   "metadata": {},
   "outputs": [],
   "source": []
  }
 ],
 "metadata": {
  "kernelspec": {
   "display_name": "Python 3",
   "language": "python",
   "name": "python3"
  },
  "language_info": {
   "codemirror_mode": {
    "name": "ipython",
    "version": 3
   },
   "file_extension": ".py",
   "mimetype": "text/x-python",
   "name": "python",
   "nbconvert_exporter": "python",
   "pygments_lexer": "ipython3",
   "version": "3.8.10"
  }
 },
 "nbformat": 4,
 "nbformat_minor": 2
}

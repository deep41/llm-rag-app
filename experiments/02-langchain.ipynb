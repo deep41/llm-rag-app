{
 "cells": [
  {
   "cell_type": "code",
   "execution_count": 2,
   "metadata": {},
   "outputs": [
    {
     "name": "stdout",
     "output_type": "stream",
     "text": [
      "Requirement already satisfied: langchain-core in /usr/local/lib/python3.8/dist-packages (0.2.2)\n",
      "Requirement already satisfied: langchain-community in /home/drajend2/.local/lib/python3.8/site-packages (0.2.1)\n",
      "Requirement already satisfied: pydantic<3,>=1 in /home/drajend2/.local/lib/python3.8/site-packages (from langchain-core) (1.10.8)\n",
      "Requirement already satisfied: langsmith<0.2.0,>=0.1.0 in /usr/local/lib/python3.8/dist-packages (from langchain-core) (0.1.65)\n",
      "Requirement already satisfied: packaging<24.0,>=23.2 in /usr/local/lib/python3.8/dist-packages (from langchain-core) (23.2)\n",
      "Requirement already satisfied: jsonpatch<2.0,>=1.33 in /usr/local/lib/python3.8/dist-packages (from langchain-core) (1.33)\n",
      "Requirement already satisfied: PyYAML>=5.3 in /usr/lib/python3/dist-packages (from langchain-core) (5.3.1)\n",
      "Requirement already satisfied: tenacity<9.0.0,>=8.1.0 in /usr/local/lib/python3.8/dist-packages (from langchain-core) (8.3.0)\n",
      "Requirement already satisfied: requests<3,>=2 in /usr/lib/python3/dist-packages (from langchain-community) (2.22.0)\n",
      "Requirement already satisfied: SQLAlchemy<3,>=1.4 in /usr/local/lib/python3.8/dist-packages (from langchain-community) (2.0.30)\n",
      "Requirement already satisfied: langchain<0.3.0,>=0.2.0 in /usr/local/lib/python3.8/dist-packages (from langchain-community) (0.2.1)\n",
      "Requirement already satisfied: numpy<2,>=1 in /usr/local/lib/python3.8/dist-packages (from langchain-community) (1.24.4)\n",
      "Requirement already satisfied: aiohttp<4.0.0,>=3.8.3 in /usr/local/lib/python3.8/dist-packages (from langchain-community) (3.9.5)\n",
      "Requirement already satisfied: dataclasses-json<0.7,>=0.5.7 in /home/drajend2/.local/lib/python3.8/site-packages (from langchain-community) (0.6.6)\n",
      "Requirement already satisfied: typing-extensions>=4.2.0 in /usr/local/lib/python3.8/dist-packages (from pydantic<3,>=1->langchain-core) (4.12.0)\n",
      "Requirement already satisfied: orjson<4.0.0,>=3.9.14 in /usr/local/lib/python3.8/dist-packages (from langsmith<0.2.0,>=0.1.0->langchain-core) (3.10.3)\n",
      "Requirement already satisfied: jsonpointer>=1.9 in /usr/local/lib/python3.8/dist-packages (from jsonpatch<2.0,>=1.33->langchain-core) (2.4)\n",
      "Requirement already satisfied: greenlet!=0.4.17; platform_machine == \"aarch64\" or (platform_machine == \"ppc64le\" or (platform_machine == \"x86_64\" or (platform_machine == \"amd64\" or (platform_machine == \"AMD64\" or (platform_machine == \"win32\" or platform_machine == \"WIN32\"))))) in /usr/local/lib/python3.8/dist-packages (from SQLAlchemy<3,>=1.4->langchain-community) (3.0.3)\n",
      "Requirement already satisfied: async-timeout<5.0.0,>=4.0.0; python_version < \"3.11\" in /usr/local/lib/python3.8/dist-packages (from langchain<0.3.0,>=0.2.0->langchain-community) (4.0.3)\n",
      "Requirement already satisfied: langchain-text-splitters<0.3.0,>=0.2.0 in /usr/local/lib/python3.8/dist-packages (from langchain<0.3.0,>=0.2.0->langchain-community) (0.2.0)\n",
      "Requirement already satisfied: frozenlist>=1.1.1 in /usr/local/lib/python3.8/dist-packages (from aiohttp<4.0.0,>=3.8.3->langchain-community) (1.4.1)\n",
      "Requirement already satisfied: yarl<2.0,>=1.0 in /usr/local/lib/python3.8/dist-packages (from aiohttp<4.0.0,>=3.8.3->langchain-community) (1.9.4)\n",
      "Requirement already satisfied: aiosignal>=1.1.2 in /usr/local/lib/python3.8/dist-packages (from aiohttp<4.0.0,>=3.8.3->langchain-community) (1.3.1)\n",
      "Requirement already satisfied: multidict<7.0,>=4.5 in /usr/local/lib/python3.8/dist-packages (from aiohttp<4.0.0,>=3.8.3->langchain-community) (6.0.5)\n",
      "Requirement already satisfied: attrs>=17.3.0 in /usr/lib/python3/dist-packages (from aiohttp<4.0.0,>=3.8.3->langchain-community) (19.3.0)\n",
      "Requirement already satisfied: marshmallow<4.0.0,>=3.18.0 in /home/drajend2/.local/lib/python3.8/site-packages (from dataclasses-json<0.7,>=0.5.7->langchain-community) (3.21.2)\n",
      "Requirement already satisfied: typing-inspect<1,>=0.4.0 in /home/drajend2/.local/lib/python3.8/site-packages (from dataclasses-json<0.7,>=0.5.7->langchain-community) (0.9.0)\n",
      "Requirement already satisfied: idna>=2.0 in /usr/lib/python3/dist-packages (from yarl<2.0,>=1.0->aiohttp<4.0.0,>=3.8.3->langchain-community) (2.8)\n",
      "Requirement already satisfied: mypy-extensions>=0.3.0 in /home/drajend2/.local/lib/python3.8/site-packages (from typing-inspect<1,>=0.4.0->dataclasses-json<0.7,>=0.5.7->langchain-community) (1.0.0)\n",
      "Note: you may need to restart the kernel to use updated packages.\n"
     ]
    }
   ],
   "source": [
    "%pip install langchain-core langchain-community"
   ]
  },
  {
   "cell_type": "code",
   "execution_count": 3,
   "metadata": {},
   "outputs": [
    {
     "name": "stdout",
     "output_type": "stream",
     "text": [
      "Requirement already satisfied: pypdf in /home/drajend2/.local/lib/python3.8/site-packages (4.2.0)\n",
      "Requirement already satisfied: typing_extensions>=4.0; python_version < \"3.11\" in /usr/local/lib/python3.8/dist-packages (from pypdf) (4.12.0)\n",
      "Note: you may need to restart the kernel to use updated packages.\n"
     ]
    }
   ],
   "source": [
    "%pip install pypdf"
   ]
  },
  {
   "cell_type": "code",
   "execution_count": 1,
   "metadata": {},
   "outputs": [],
   "source": [
    "MODEL = 'llama2'\n"
   ]
  },
  {
   "cell_type": "code",
   "execution_count": 4,
   "metadata": {},
   "outputs": [
    {
     "name": "stderr",
     "output_type": "stream",
     "text": [
      "/usr/lib/python3/dist-packages/requests/__init__.py:89: RequestsDependencyWarning: urllib3 (2.2.1) or chardet (3.0.4) doesn't match a supported version!\n",
      "  warnings.warn(\"urllib3 ({}) or chardet ({}) doesn't match a supported \"\n"
     ]
    }
   ],
   "source": [
    "\n",
    "from langchain_community.llms import Ollama\n",
    "from langchain_community.embeddings import OllamaEmbeddings\n",
    "\n",
    "model = Ollama(model=MODEL)\n",
    "embeddings=OllamaEmbeddings()\n"
   ]
  },
  {
   "cell_type": "code",
   "execution_count": 31,
   "metadata": {},
   "outputs": [
    {
     "name": "stdout",
     "output_type": "stream",
     "text": [
      "01-run-ollama.ipynb  02-langchain.ipynb\n"
     ]
    }
   ],
   "source": [
    "!ls"
   ]
  },
  {
   "cell_type": "code",
   "execution_count": 5,
   "metadata": {},
   "outputs": [
    {
     "data": {
      "text/plain": [
       "[Document(page_content='Comparison of the Best GPUs on the Market\\nNVIDIA GeForce RTX 4090\\nSpecifications:\\n- CUDA Cores: 16,384\\n- Base Clock: 2.23 GHz\\n- Boost Clock: 2.52 GHz\\n- Memory: 24 GB GDDR6X\\n- Memory Bandwidth: 1,008 GB/s\\n- TDP: 450W\\n- Ray Tracing Cores: 144\\n- Tensor Cores: 576\\nAdvantages:\\n- Unmatched Performance: The RTX 4090 offers the highest performance in gaming and professional applications,\\ncapable of 4K gaming at high frame rates.\\n- Ray Tracing and AI: Exceptional ray tracing capabilities and AI-based features like DLSS 3.0 enhance both visual\\nquality and performance.\\n- Future-Proof: With a large amount of VRAM and advanced features, the RTX 4090 is highly future-proof for upcoming\\ngames and applications.\\nDisadvantages:\\n- High Power Consumption: The 450W TDP requires a robust power supply and efficient cooling solutions.\\n- Expensive: One of the most expensive GPUs on the market, making it less accessible for budget-conscious users.\\n- Size: Large form factor may not fit in all PC cases.\\nAMD Radeon RX 7900 XTX\\nSpecifications:\\n- Compute Units: 96', metadata={'source': '../pdfs/gpus.pdf', 'page': 0}),\n",
       " Document(page_content=\"- Base Clock: 1.9 GHz\\n- Boost Clock: 2.5 GHz\\n- Memory: 24 GB GDDR6\\n- Memory Bandwidth: 960 GB/s\\n- TDP: 355W\\n- Ray Accelerators: 96\\nAdvantages:\\n- Competitive Performance: Offers excellent performance, rivaling NVIDIA's high-end GPUs, especially in rasterization.\\n- Price to Performance: More affordable than the RTX 4090, providing better value for performance.\\n- Efficient Architecture: Lower power consumption compared to the RTX 4090, making it more power-efficient.\\nDisadvantages:\\n- Ray Tracing Performance: Ray tracing performance is not as strong as NVIDIA's top GPUs.\\n- Driver Stability: Historically, AMD has faced challenges with driver stability and updates, though this has been\\nimproving.\\n- Feature Set: Lacks some of the advanced AI features like DLSS available on NVIDIA GPUs.\\nNVIDIA GeForce RTX 4080\\nSpecifications:\\n- CUDA Cores: 9,728\\n- Base Clock: 2.21 GHz\\n- Boost Clock: 2.51 GHz\\n- Memory: 16 GB GDDR6X\\n- Memory Bandwidth: 760 GB/s\\n- TDP: 320W\\n- Ray Tracing Cores: 76\\n- Tensor Cores: 304\", metadata={'source': '../pdfs/gpus.pdf', 'page': 1}),\n",
       " Document(page_content='Advantages:\\n- Strong Performance: Excellent 4K gaming performance and efficient for high-end professional tasks.\\n- Ray Tracing and AI: High ray tracing performance and DLSS support.\\n- Efficiency: Lower power consumption compared to the RTX 4090, making it more accessible for a broader range of\\nsystems.\\nDisadvantages:\\n- Price: Still relatively expensive, though cheaper than the RTX 4090.\\n- VRAM: 16 GB may be less future-proof than the 24 GB offered by the RTX 4090 and RX 7900 XTX.\\n- Relative Performance: While powerful, it does not match the absolute performance of the RTX 4090.\\nSummary\\n- NVIDIA GeForce RTX 4090: Best for ultimate performance and future-proofing, but very expensive and power-hungry.\\n- AMD Radeon RX 7900 XTX: Best value for high-end performance, more efficient, but slightly weaker in ray tracing.\\n- NVIDIA GeForce RTX 4080: Balanced choice for high performance with better efficiency and slightly lower cost.', metadata={'source': '../pdfs/gpus.pdf', 'page': 2})]"
      ]
     },
     "execution_count": 5,
     "metadata": {},
     "output_type": "execute_result"
    }
   ],
   "source": [
    "from langchain_community.document_loaders import PyPDFLoader\n",
    "loader = PyPDFLoader(\"../pdfs/gpus.pdf\")\n",
    "pages = loader.load_and_split()\n",
    "pages"
   ]
  },
  {
   "cell_type": "code",
   "execution_count": 6,
   "metadata": {},
   "outputs": [],
   "source": [
    "from langchain.prompts import PromptTemplate\n",
    "\n",
    "template = \"\"\"\n",
    "Answer the question based on the context below. If you can't answer the question, reply \"I don't know\".\n",
    "\n",
    "Context: {context}\n",
    "\n",
    "Question: {question}\n",
    "\"\"\"\n",
    "\n",
    "prompt = PromptTemplate.from_template(template)\n",
    "# print(prompt.format(context=\"Here is some context\", question=\"This is the question\"))\n",
    "\n"
   ]
  },
  {
   "cell_type": "code",
   "execution_count": 7,
   "metadata": {},
   "outputs": [],
   "source": [
    "from langchain_core.output_parsers import StrOutputParser\n",
    "\n",
    "parser = StrOutputParser()\n",
    "\n"
   ]
  },
  {
   "cell_type": "code",
   "execution_count": 35,
   "metadata": {},
   "outputs": [
    {
     "data": {
      "text/plain": [
       "{'title': 'PromptInput',\n",
       " 'type': 'object',\n",
       " 'properties': {'context': {'title': 'Context', 'type': 'string'},\n",
       "  'question': {'title': 'Question', 'type': 'string'}}}"
      ]
     },
     "execution_count": 35,
     "metadata": {},
     "output_type": "execute_result"
    }
   ],
   "source": []
  },
  {
   "cell_type": "code",
   "execution_count": 8,
   "metadata": {},
   "outputs": [],
   "source": [
    "from langchain_community.vectorstores import DocArrayInMemorySearch\n",
    "\n",
    "vectorstore = DocArrayInMemorySearch.from_documents(\n",
    "    pages,\n",
    "    embedding=embeddings\n",
    ")"
   ]
  },
  {
   "cell_type": "code",
   "execution_count": 12,
   "metadata": {},
   "outputs": [
    {
     "data": {
      "text/plain": [
       "[Document(page_content='Comparison of the Best GPUs on the Market\\nNVIDIA GeForce RTX 4090\\nSpecifications:\\n- CUDA Cores: 16,384\\n- Base Clock: 2.23 GHz\\n- Boost Clock: 2.52 GHz\\n- Memory: 24 GB GDDR6X\\n- Memory Bandwidth: 1,008 GB/s\\n- TDP: 450W\\n- Ray Tracing Cores: 144\\n- Tensor Cores: 576\\nAdvantages:\\n- Unmatched Performance: The RTX 4090 offers the highest performance in gaming and professional applications,\\ncapable of 4K gaming at high frame rates.\\n- Ray Tracing and AI: Exceptional ray tracing capabilities and AI-based features like DLSS 3.0 enhance both visual\\nquality and performance.\\n- Future-Proof: With a large amount of VRAM and advanced features, the RTX 4090 is highly future-proof for upcoming\\ngames and applications.\\nDisadvantages:\\n- High Power Consumption: The 450W TDP requires a robust power supply and efficient cooling solutions.\\n- Expensive: One of the most expensive GPUs on the market, making it less accessible for budget-conscious users.\\n- Size: Large form factor may not fit in all PC cases.\\nAMD Radeon RX 7900 XTX\\nSpecifications:\\n- Compute Units: 96', metadata={'source': '../pdfs/gpus.pdf', 'page': 0}),\n",
       " Document(page_content=\"- Base Clock: 1.9 GHz\\n- Boost Clock: 2.5 GHz\\n- Memory: 24 GB GDDR6\\n- Memory Bandwidth: 960 GB/s\\n- TDP: 355W\\n- Ray Accelerators: 96\\nAdvantages:\\n- Competitive Performance: Offers excellent performance, rivaling NVIDIA's high-end GPUs, especially in rasterization.\\n- Price to Performance: More affordable than the RTX 4090, providing better value for performance.\\n- Efficient Architecture: Lower power consumption compared to the RTX 4090, making it more power-efficient.\\nDisadvantages:\\n- Ray Tracing Performance: Ray tracing performance is not as strong as NVIDIA's top GPUs.\\n- Driver Stability: Historically, AMD has faced challenges with driver stability and updates, though this has been\\nimproving.\\n- Feature Set: Lacks some of the advanced AI features like DLSS available on NVIDIA GPUs.\\nNVIDIA GeForce RTX 4080\\nSpecifications:\\n- CUDA Cores: 9,728\\n- Base Clock: 2.21 GHz\\n- Boost Clock: 2.51 GHz\\n- Memory: 16 GB GDDR6X\\n- Memory Bandwidth: 760 GB/s\\n- TDP: 320W\\n- Ray Tracing Cores: 76\\n- Tensor Cores: 304\", metadata={'source': '../pdfs/gpus.pdf', 'page': 1}),\n",
       " Document(page_content='Advantages:\\n- Strong Performance: Excellent 4K gaming performance and efficient for high-end professional tasks.\\n- Ray Tracing and AI: High ray tracing performance and DLSS support.\\n- Efficiency: Lower power consumption compared to the RTX 4090, making it more accessible for a broader range of\\nsystems.\\nDisadvantages:\\n- Price: Still relatively expensive, though cheaper than the RTX 4090.\\n- VRAM: 16 GB may be less future-proof than the 24 GB offered by the RTX 4090 and RX 7900 XTX.\\n- Relative Performance: While powerful, it does not match the absolute performance of the RTX 4090.\\nSummary\\n- NVIDIA GeForce RTX 4090: Best for ultimate performance and future-proofing, but very expensive and power-hungry.\\n- AMD Radeon RX 7900 XTX: Best value for high-end performance, more efficient, but slightly weaker in ray tracing.\\n- NVIDIA GeForce RTX 4080: Balanced choice for high performance with better efficiency and slightly lower cost.', metadata={'source': '../pdfs/gpus.pdf', 'page': 2})]"
      ]
     },
     "execution_count": 12,
     "metadata": {},
     "output_type": "execute_result"
    }
   ],
   "source": [
    "retriever = vectorstore.as_retriever()\n",
    "retriever.invoke(\"ML\")"
   ]
  },
  {
   "cell_type": "code",
   "execution_count": 42,
   "metadata": {},
   "outputs": [
    {
     "name": "stdout",
     "output_type": "stream",
     "text": [
      " Based on the context provided, your name is Deepak.\n"
     ]
    }
   ],
   "source": [
    "output = chain.invoke({\"context\":\"The name I was given was Deepak\", \"question\":\"What's my name\"})\n",
    "print(output)\n",
    "# for token in output:\n",
    "#     print(token, end=\"\", flush=True)"
   ]
  },
  {
   "cell_type": "code",
   "execution_count": 13,
   "metadata": {},
   "outputs": [
    {
     "data": {
      "text/plain": [
       "{'title': 'RunnableParallel<context,question>Input',\n",
       " 'type': 'object',\n",
       " 'properties': {'question': {'title': 'Question'}}}"
      ]
     },
     "execution_count": 13,
     "metadata": {},
     "output_type": "execute_result"
    }
   ],
   "source": [
    "\n",
    "from operator import itemgetter\n",
    "\n",
    "\n",
    "\n",
    "chain = (\n",
    "    {\n",
    "    \"context\": itemgetter(\"question\") | retriever,\n",
    "    \"question\": itemgetter(\"question\")\n",
    "    } | prompt | model | parser)\n",
    "chain.input_schema.schema()\n"
   ]
  },
  {
   "cell_type": "code",
   "execution_count": 14,
   "metadata": {},
   "outputs": [],
   "source": [
    "questions = [\n",
    "    \"What is this document about?\",\n",
    "    \"What GPUs are being compared?\",\n",
    "]\n"
   ]
  },
  {
   "cell_type": "code",
   "execution_count": 26,
   "metadata": {},
   "outputs": [
    {
     "name": "stdout",
     "output_type": "stream",
     "text": [
      "Question: What is this document about?\n",
      "Answer: Based on the content provided in the document, it appears to be a comparison of various high-end graphics processing units (GPUs) available in the market, specifically focusing on their performance, features, and specifications. The document provides detailed information on each of the GPUs discussed, including their CUDA cores, base and boost clock speeds, memory capacity, memory bandwidth, TDP, ray tracing cores, tensor cores, and other features.\n",
      "\n",
      "The document starts by discussing the advantages and disadvantages of each GPU, followed by a detailed comparison of their specifications and performance in different areas. The document concludes by summarizing the key points and providing recommendations for users based on their specific needs and budget constraints.\n",
      "Question: What GPUs are being compared?\n",
      "Answer: Based on the context provided, the following GPUs are being compared:\n",
      "\n",
      "1. NVIDIA GeForce RTX 4090\n",
      "2. AMD Radeon RX 7900 XTX\n",
      "3. NVIDIA GeForce RTX 4080\n",
      "\n",
      "These three GPUs are high-end graphics processing units (GPUs) with different specifications, performance capabilities, and features. The comparison is meant to help readers determine which of these GPUs best suits their needs in terms of performance, efficiency, price, and other factors.\n"
     ]
    }
   ],
   "source": [
    "for question in questions:\n",
    "    print(f\"Question: {question}\")\n",
    "    print(f\"Answer: \", end=\"\")\n",
    "    for token in chain.stream({\"question\" : question}):\n",
    "        print(token, end=\"\", flush=True)\n",
    "        \n",
    "    print()\n",
    "    "
   ]
  },
  {
   "cell_type": "code",
   "execution_count": null,
   "metadata": {},
   "outputs": [],
   "source": []
  }
 ],
 "metadata": {
  "kernelspec": {
   "display_name": "Python 3",
   "language": "python",
   "name": "python3"
  },
  "language_info": {
   "codemirror_mode": {
    "name": "ipython",
    "version": 3
   },
   "file_extension": ".py",
   "mimetype": "text/x-python",
   "name": "python",
   "nbconvert_exporter": "python",
   "pygments_lexer": "ipython3",
   "version": "3.8.10"
  }
 },
 "nbformat": 4,
 "nbformat_minor": 2
}
